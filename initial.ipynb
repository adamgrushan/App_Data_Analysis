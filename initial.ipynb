{
 "metadata": {
  "language_info": {
   "codemirror_mode": {
    "name": "ipython",
    "version": 3
   },
   "file_extension": ".py",
   "mimetype": "text/x-python",
   "name": "python",
   "nbconvert_exporter": "python",
   "pygments_lexer": "ipython3",
   "version": "3.8.2-final"
  },
  "orig_nbformat": 2,
  "kernelspec": {
   "name": "python38264bit137125f4a8cb471993a1d5900d281b29",
   "display_name": "Python 3.8.2 64-bit"
  }
 },
 "nbformat": 4,
 "nbformat_minor": 2,
 "cells": [
  {
   "cell_type": "markdown",
   "metadata": {},
   "source": [
    "# App Data Analysis\n",
    "Goal: Using Google Play Store and Apple App Store data, determine which types of apps attract the most users.\n",
    "\n",
    "\n",
    "Data sets I'll be using are as follows:\n",
    "\n",
    "   1. https://www.kaggle.com/lava18/google-play-store-apps\n",
    "   \n",
    "   2. https://www.kaggle.com/ramamet4/app-store-apple-data-set-10k-apps\n",
    "\n",
    "## First, let's open our datasets and define a function we'll use to easily explore the data."
   ]
  },
  {
   "cell_type": "code",
   "execution_count": 2,
   "metadata": {},
   "outputs": [],
   "source": [
    "from csv import reader\n",
    "\n",
    "#Google\n",
    "opened_file = open('googleplaystore.csv')\n",
    "read_file = reader(opened_file)\n",
    "android = list(read_file)\n",
    "android_header = android[0]\n",
    "android = android[1:]\n",
    "\n",
    "#Apple\n",
    "opened_file = open('applestore.csv')\n",
    "read_file = reader(opened_file)\n",
    "ios = list(read_file)\n",
    "ios_header = ios[0]\n",
    "ios = ios[1:]"
   ]
  },
  {
   "cell_type": "code",
   "execution_count": 3,
   "metadata": {},
   "outputs": [],
   "source": [
    "# define function which returns a range of rows and also the number of rows and columns in the data.\n",
    "def explore_data(dataset, start, end, rows_and_columns=False):\n",
    "    dataset_slice = dataset[start:end]    \n",
    "    for row in dataset_slice:\n",
    "        print(row)\n",
    "        print('\\n') # adds a new (empty) line after each row\n",
    "\n",
    "    if rows_and_columns:\n",
    "        print('Number of rows:', len(dataset))\n",
    "        print('Number of columns:', len(dataset[0]))"
   ]
  },
  {
   "cell_type": "markdown",
   "metadata": {},
   "source": [
    "Next, let's explore our android data."
   ]
  },
  {
   "cell_type": "code",
   "execution_count": 4,
   "metadata": {
    "tags": []
   },
   "outputs": [
    {
     "output_type": "stream",
     "name": "stdout",
     "text": "['App', 'Category', 'Rating', 'Reviews', 'Size', 'Installs', 'Type', 'Price', 'Content Rating', 'Genres', 'Last Updated', 'Current Ver', 'Android Ver']\n\n\n['Photo Editor & Candy Camera & Grid & ScrapBook', 'ART_AND_DESIGN', '4.1', '159', '19M', '10,000+', 'Free', '0', 'Everyone', 'Art & Design', 'January 7, 2018', '1.0.0', '4.0.3 and up']\n\n\n['Coloring book moana', 'ART_AND_DESIGN', '3.9', '967', '14M', '500,000+', 'Free', '0', 'Everyone', 'Art & Design;Pretend Play', 'January 15, 2018', '2.0.0', '4.0.3 and up']\n\n\n['U Launcher Lite – FREE Live Cool Themes, Hide Apps', 'ART_AND_DESIGN', '4.7', '87510', '8.7M', '5,000,000+', 'Free', '0', 'Everyone', 'Art & Design', 'August 1, 2018', '1.2.4', '4.0.3 and up']\n\n\nNumber of rows: 10841\nNumber of columns: 13\n"
    }
   ],
   "source": [
    "print(android_header)\n",
    "print('\\n')\n",
    "explore_data(android, 0, 3, True)"
   ]
  },
  {
   "cell_type": "markdown",
   "metadata": {},
   "source": [
    "We can see the field headers of our data in the first row, then the first three apps listed in the data.\n",
    "\n",
    "Looks like we've got data on 10,841 apps across 13 fields. Metrics related to popularity are likely 'Rating', 'Reviews', and 'Installs'.\n",
    "\n",
    "Next, let's explore our iOS data."
   ]
  },
  {
   "cell_type": "code",
   "execution_count": 5,
   "metadata": {
    "tags": []
   },
   "outputs": [
    {
     "output_type": "stream",
     "name": "stdout",
     "text": "['id', 'track_name', 'size_bytes', 'currency', 'price', 'rating_count_tot', 'rating_count_ver', 'user_rating', 'user_rating_ver', 'ver', 'cont_rating', 'prime_genre', 'sup_devices.num', 'ipadSc_urls.num', 'lang.num', 'vpp_lic']\n\n\n['284882215', 'Facebook', '389879808', 'USD', '0.0', '2974676', '212', '3.5', '3.5', '95.0', '4+', 'Social Networking', '37', '1', '29', '1']\n\n\n['389801252', 'Instagram', '113954816', 'USD', '0.0', '2161558', '1289', '4.5', '4.0', '10.23', '12+', 'Photo & Video', '37', '0', '29', '1']\n\n\n['529479190', 'Clash of Clans', '116476928', 'USD', '0.0', '2130805', '579', '4.5', '4.5', '9.24.12', '9+', 'Games', '38', '5', '18', '1']\n\n\nNumber of rows: 7197\nNumber of columns: 16\n"
    }
   ],
   "source": [
    "print(ios_header)\n",
    "print('\\n')\n",
    "explore_data(ios, 0, 3, True)"
   ]
  },
  {
   "cell_type": "markdown",
   "metadata": {},
   "source": [
    "Looks like we've got 7,197 apps across 16 fields. The field names aren't the most self explanatory, so I looked here: https://www.kaggle.com/ramamet4/app-store-apple-data-set-10k-apps to determine what each field holds. Metrics related to popularity are likely 'rating_count_tot' and 'user_rating'. Notably, there's no data included on number of installs.\n",
    "\n",
    "## Now, let's get started cleaning the data. \n",
    "\n",
    "## First, let's remove inaccurate data.\n",
    "\n",
    "In the discussion section of the google play data is mention of a wrong rating for entry 10472: https://www.kaggle.com/lava18/google-play-store-apps/discussion/66015."
   ]
  },
  {
   "cell_type": "code",
   "execution_count": 6,
   "metadata": {
    "tags": []
   },
   "outputs": [
    {
     "output_type": "stream",
     "name": "stdout",
     "text": "['App', 'Category', 'Rating', 'Reviews', 'Size', 'Installs', 'Type', 'Price', 'Content Rating', 'Genres', 'Last Updated', 'Current Ver', 'Android Ver']\n['Life Made WI-Fi Touchscreen Photo Frame', '1.9', '19', '3.0M', '1,000+', 'Free', '0', 'Everyone', '', 'February 11, 2018', '1.0.19', '4.0 and up']\n['Photo Editor & Candy Camera & Grid & ScrapBook', 'ART_AND_DESIGN', '4.1', '159', '19M', '10,000+', 'Free', '0', 'Everyone', 'Art & Design', 'January 7, 2018', '1.0.0', '4.0.3 and up']\n"
    }
   ],
   "source": [
    "print(android_header)\n",
    "print(android[10472])\n",
    "print(android[0])"
   ]
  },
  {
   "cell_type": "markdown",
   "metadata": {},
   "source": [
    "Yes, looks like row 10472 is missing the category field. The 'Life Made WI-Fi Touchscreen Photo Frame' app is likely not in the '1.9' category. **Let's delete this row.**"
   ]
  },
  {
   "cell_type": "code",
   "execution_count": 7,
   "metadata": {},
   "outputs": [],
   "source": [
    "del android[10472]"
   ]
  },
  {
   "cell_type": "code",
   "execution_count": 8,
   "metadata": {
    "tags": []
   },
   "outputs": [
    {
     "output_type": "stream",
     "name": "stdout",
     "text": "10840\n"
    }
   ],
   "source": [
    "print(len(android))"
   ]
  },
  {
   "cell_type": "markdown",
   "metadata": {},
   "source": [
    "Previously was 10,841 rows, so looks like our delete was completed successfully. \n",
    "\n",
    "## Next, let's look for any possible duplicate entries. \n",
    "\n",
    "Looking at the discussion page (https://www.kaggle.com/lava18/google-play-store-apps/discussion), seems like Instagram might be one app with duplicate entries."
   ]
  },
  {
   "cell_type": "code",
   "execution_count": 9,
   "metadata": {
    "tags": []
   },
   "outputs": [
    {
     "output_type": "stream",
     "name": "stdout",
     "text": "['Instagram', 'SOCIAL', '4.5', '66577313', 'Varies with device', '1,000,000,000+', 'Free', '0', 'Teen', 'Social', 'July 31, 2018', 'Varies with device', 'Varies with device']\n['Instagram', 'SOCIAL', '4.5', '66577446', 'Varies with device', '1,000,000,000+', 'Free', '0', 'Teen', 'Social', 'July 31, 2018', 'Varies with device', 'Varies with device']\n['Instagram', 'SOCIAL', '4.5', '66577313', 'Varies with device', '1,000,000,000+', 'Free', '0', 'Teen', 'Social', 'July 31, 2018', 'Varies with device', 'Varies with device']\n['Instagram', 'SOCIAL', '4.5', '66509917', 'Varies with device', '1,000,000,000+', 'Free', '0', 'Teen', 'Social', 'July 31, 2018', 'Varies with device', 'Varies with device']\n"
    }
   ],
   "source": [
    "for i in android:\n",
    "    name = i[0]\n",
    "    if name == 'Instagram':\n",
    "        print(i)"
   ]
  },
  {
   "cell_type": "markdown",
   "metadata": {},
   "source": [
    "Indeed, Instagram has duplicate entries. It looks like the 4th column (number of reviews) is slightly different for each row. Let's look for all cases of duplicate entries."
   ]
  },
  {
   "cell_type": "code",
   "execution_count": 10,
   "metadata": {
    "tags": []
   },
   "outputs": [
    {
     "output_type": "stream",
     "name": "stdout",
     "text": "Number of duplicate apps: 1181\n\n\nExamples of duplicate apps: ['Quick PDF Scanner + OCR FREE', 'Box', 'Google My Business', 'ZOOM Cloud Meetings', 'join.me - Simple Meetings', 'Box', 'Zenefits', 'Google Ads', 'Google My Business', 'Slack', 'FreshBooks Classic', 'Insightly CRM', 'QuickBooks Accounting: Invoicing & Expenses', 'HipChat - Chat Built for Teams', 'Xero Accounting Software']\n"
    }
   ],
   "source": [
    "duplicate_apps = []\n",
    "unique_apps = []\n",
    "\n",
    "for i in android:\n",
    "    name = i[0]\n",
    "    if name in unique_apps:\n",
    "        duplicate_apps.append(name)\n",
    "    else:\n",
    "        unique_apps.append(name)\n",
    "\n",
    "print('Number of duplicate apps:', len(duplicate_apps))\n",
    "print('\\n')\n",
    "print('Examples of duplicate apps:', duplicate_apps[:15])"
   ]
  },
  {
   "cell_type": "markdown",
   "metadata": {},
   "source": [
    "Now, let's delete duplicate entries. We'll only keep the records with the largest amounts of ratings for each app."
   ]
  },
  {
   "cell_type": "code",
   "execution_count": 11,
   "metadata": {
    "tags": []
   },
   "outputs": [
    {
     "output_type": "stream",
     "name": "stdout",
     "text": "Expected length:  9659\nActual length: 9659\n"
    }
   ],
   "source": [
    "reviews_max = {} #this will hold the the name of the app and most reviews associated with that app for all entries of the app\n",
    "\n",
    "for i in android:\n",
    "    name = i[0]\n",
    "    n_reviews = float(i[3])\n",
    "    if name in reviews_max and reviews_max[name] < n_reviews:\n",
    "        reviews_max[name] = n_reviews\n",
    "    elif name not in reviews_max:\n",
    "        reviews_max[name] = n_reviews\n",
    "\n",
    "print('Expected length: ', len(android) - 1181)\n",
    "print('Actual length:', len(reviews_max))"
   ]
  },
  {
   "cell_type": "code",
   "execution_count": 12,
   "metadata": {
    "tags": []
   },
   "outputs": [
    {
     "output_type": "stream",
     "name": "stdout",
     "text": "['Photo Editor & Candy Camera & Grid & ScrapBook', 'ART_AND_DESIGN', '4.1', '159', '19M', '10,000+', 'Free', '0', 'Everyone', 'Art & Design', 'January 7, 2018', '1.0.0', '4.0.3 and up']\n\n\n['U Launcher Lite – FREE Live Cool Themes, Hide Apps', 'ART_AND_DESIGN', '4.7', '87510', '8.7M', '5,000,000+', 'Free', '0', 'Everyone', 'Art & Design', 'August 1, 2018', '1.2.4', '4.0.3 and up']\n\n\n['Sketch - Draw & Paint', 'ART_AND_DESIGN', '4.5', '215644', '25M', '50,000,000+', 'Free', '0', 'Teen', 'Art & Design', 'June 8, 2018', 'Varies with device', '4.2 and up']\n\n\nNumber of rows: 9659\nNumber of columns: 13\n"
    }
   ],
   "source": [
    "#Now, we'll loop through the data to return only the records referenced in our dictionary\n",
    "\n",
    "android_clean = []\n",
    "already_added = [] # necessary for if multiple duplicate entries have the same number of reviews. we'll just keep the first if the app has already been added.\n",
    "\n",
    "for i in android:\n",
    "    name = i[0]\n",
    "    n_reviews = float(i[3])\n",
    "    if (n_reviews == reviews_max[name]) and (name not in already_added):\n",
    "        android_clean.append(i)\n",
    "        already_added.append(name)\n",
    "\n",
    "explore_data(android_clean, 0,  3, True)"
   ]
  },
  {
   "cell_type": "markdown",
   "metadata": {},
   "source": [
    "Looks good! We have 9659 rows as expected. Let's check for duplicate entries in the iOS data."
   ]
  },
  {
   "cell_type": "code",
   "execution_count": 13,
   "metadata": {
    "tags": []
   },
   "outputs": [
    {
     "output_type": "stream",
     "name": "stdout",
     "text": "Number of duplicate apps: 0\n"
    }
   ],
   "source": [
    "duplicate_apps = []\n",
    "unique_apps = []\n",
    "\n",
    "for i in ios:\n",
    "    name = i[0]\n",
    "    if name in unique_apps:\n",
    "        duplicate_apps.append(name)\n",
    "    else:\n",
    "        unique_apps.append(name)\n",
    "\n",
    "print('Number of duplicate apps:', len(duplicate_apps))"
   ]
  },
  {
   "cell_type": "markdown",
   "metadata": {},
   "source": [
    "## Now, let's remove non-English apps.\n",
    "\n",
    "See below for some examples:"
   ]
  },
  {
   "cell_type": "code",
   "execution_count": 14,
   "metadata": {
    "tags": []
   },
   "outputs": [
    {
     "output_type": "stream",
     "name": "stdout",
     "text": "爱奇艺PPS -《欢乐颂2》电视剧热播\n【脱出ゲーム】絶対に最後までプレイしないで 〜謎解き＆ブロックパズル〜\n中国語 AQリスニング\nلعبة تقدر تربح DZ\n"
    }
   ],
   "source": [
    "print(ios[813][1])\n",
    "print(ios[6731][1])\n",
    "\n",
    "print(android_clean[4412][0])\n",
    "print(android_clean[7940][0])"
   ]
  },
  {
   "cell_type": "markdown",
   "metadata": {},
   "source": [
    "We'll be using the ord function to find non-English characters. If a string contains a character with an ord value greater than 127, the string is likely not in English (because it's outside ASCII range)."
   ]
  },
  {
   "cell_type": "code",
   "execution_count": 15,
   "metadata": {
    "tags": []
   },
   "outputs": [
    {
     "output_type": "stream",
     "name": "stdout",
     "text": "True\nFalse\nFalse\nFalse\n"
    }
   ],
   "source": [
    "def is_english(string):\n",
    "    for character in string:\n",
    "        if ord(character) > 127:\n",
    "            return False\n",
    "\n",
    "    return True\n",
    "\n",
    "print(is_english('Instagram'))\n",
    "print(is_english('爱奇艺PPS -《欢乐颂2》电视剧热播'))\n",
    "print(is_english('Docs To Go™ Free Office Suite'))\n",
    "print(is_english('Instachat 😜'))"
   ]
  },
  {
   "cell_type": "markdown",
   "metadata": {},
   "source": [
    "Hmm. Well,  let's slightly adjust our criteria so we can identify 'TM' and 😜 as English. We'll say that the app name must have more than 3 characters with an ord value greater than 127 to be considered not English."
   ]
  },
  {
   "cell_type": "code",
   "execution_count": 16,
   "metadata": {
    "tags": []
   },
   "outputs": [
    {
     "output_type": "stream",
     "name": "stdout",
     "text": "True\nFalse\nTrue\nTrue\n"
    }
   ],
   "source": [
    "def is_english(string):\n",
    "    non_ASCII = 0\n",
    "    for character in string:\n",
    "        if ord(character) > 127:\n",
    "            non_ASCII += 1\n",
    "        \n",
    "    if non_ASCII > 3:\n",
    "        return False\n",
    "    else:\n",
    "        return True\n",
    "\n",
    "print(is_english('Instagram'))\n",
    "print(is_english('爱奇艺PPS -《欢乐颂2》电视剧热播'))\n",
    "print(is_english('Docs To Go™ Free Office Suite'))\n",
    "print(is_english('Instachat 😜'))"
   ]
  },
  {
   "cell_type": "markdown",
   "metadata": {},
   "source": [
    "Now let's use this function to remove non-English apps."
   ]
  },
  {
   "cell_type": "code",
   "execution_count": 17,
   "metadata": {
    "tags": []
   },
   "outputs": [
    {
     "output_type": "stream",
     "name": "stdout",
     "text": "['Photo Editor & Candy Camera & Grid & ScrapBook', 'ART_AND_DESIGN', '4.1', '159', '19M', '10,000+', 'Free', '0', 'Everyone', 'Art & Design', 'January 7, 2018', '1.0.0', '4.0.3 and up']\n\n\n['U Launcher Lite – FREE Live Cool Themes, Hide Apps', 'ART_AND_DESIGN', '4.7', '87510', '8.7M', '5,000,000+', 'Free', '0', 'Everyone', 'Art & Design', 'August 1, 2018', '1.2.4', '4.0.3 and up']\n\n\n['Sketch - Draw & Paint', 'ART_AND_DESIGN', '4.5', '215644', '25M', '50,000,000+', 'Free', '0', 'Teen', 'Art & Design', 'June 8, 2018', 'Varies with device', '4.2 and up']\n\n\nNumber of rows: 9614\nNumber of columns: 13\n\n\n['284882215', 'Facebook', '389879808', 'USD', '0.0', '2974676', '212', '3.5', '3.5', '95.0', '4+', 'Social Networking', '37', '1', '29', '1']\n\n\n['389801252', 'Instagram', '113954816', 'USD', '0.0', '2161558', '1289', '4.5', '4.0', '10.23', '12+', 'Photo & Video', '37', '0', '29', '1']\n\n\n['529479190', 'Clash of Clans', '116476928', 'USD', '0.0', '2130805', '579', '4.5', '4.5', '9.24.12', '9+', 'Games', '38', '5', '18', '1']\n\n\nNumber of rows: 6183\nNumber of columns: 16\n"
    }
   ],
   "source": [
    "android_clean_english = []\n",
    "ios_clean_english = []\n",
    "\n",
    "for row in android_clean:\n",
    "    name = row[0]\n",
    "    if is_english(name):\n",
    "        android_clean_english.append(row)\n",
    "\n",
    "for row in ios:\n",
    "    name = row[1]\n",
    "    if is_english(name):\n",
    "        ios_clean_english.append(row)\n",
    "\n",
    "explore_data(android_clean_english, 0, 3, True)\n",
    "print('\\n')\n",
    "explore_data(ios_clean_english, 0, 3, True)"
   ]
  },
  {
   "cell_type": "markdown",
   "metadata": {},
   "source": [
    "We have 9,614 andorid apps remaining and 6,183 iOS apps remaining. \n",
    "\n",
    "## Our last data cleaning step will be isolating the free apps."
   ]
  },
  {
   "cell_type": "code",
   "execution_count": 18,
   "metadata": {
    "tags": []
   },
   "outputs": [
    {
     "output_type": "stream",
     "name": "stdout",
     "text": "['Photo Editor & Candy Camera & Grid & ScrapBook', 'ART_AND_DESIGN', '4.1', '159', '19M', '10,000+', 'Free', '0', 'Everyone', 'Art & Design', 'January 7, 2018', '1.0.0', '4.0.3 and up']\n\n\n['U Launcher Lite – FREE Live Cool Themes, Hide Apps', 'ART_AND_DESIGN', '4.7', '87510', '8.7M', '5,000,000+', 'Free', '0', 'Everyone', 'Art & Design', 'August 1, 2018', '1.2.4', '4.0.3 and up']\n\n\n['Sketch - Draw & Paint', 'ART_AND_DESIGN', '4.5', '215644', '25M', '50,000,000+', 'Free', '0', 'Teen', 'Art & Design', 'June 8, 2018', 'Varies with device', '4.2 and up']\n\n\nNumber of rows: 8864\nNumber of columns: 13\n\n\n['284882215', 'Facebook', '389879808', 'USD', '0.0', '2974676', '212', '3.5', '3.5', '95.0', '4+', 'Social Networking', '37', '1', '29', '1']\n\n\n['389801252', 'Instagram', '113954816', 'USD', '0.0', '2161558', '1289', '4.5', '4.0', '10.23', '12+', 'Photo & Video', '37', '0', '29', '1']\n\n\n['529479190', 'Clash of Clans', '116476928', 'USD', '0.0', '2130805', '579', '4.5', '4.5', '9.24.12', '9+', 'Games', '38', '5', '18', '1']\n\n\nNumber of rows: 3222\nNumber of columns: 16\n"
    }
   ],
   "source": [
    "android_free = []\n",
    "ios_free = []\n",
    "\n",
    "for app in android_clean_english:\n",
    "    price = app[7]\n",
    "    if price == '0':\n",
    "        android_free.append(app)\n",
    "\n",
    "for app in ios_clean_english:\n",
    "    price = app[4]\n",
    "    if price == '0.0':\n",
    "        ios_free.append(app)\n",
    "\n",
    "explore_data(android_free, 0, 3, True)\n",
    "print('\\n')\n",
    "explore_data(ios_free, 0, 3, True)"
   ]
  },
  {
   "cell_type": "markdown",
   "metadata": {},
   "source": [
    "We're left with 8,864 android apps and 3,222 iOS apps.\n",
    "\n",
    "## Now, let's analyze our data.\n",
    "\n",
    "As stated previously, our goal is to determine the kinds of apps that are likely to attract the most users in the android and iOS markets. Let's begin by getting a sense of what the genres of app are most developed in each market. The relevant genre columns are 'Category' and 'Genres' in andorid and 'prime_genre' in iOS. We'll build a frequency table to summarize number of apps in the app store by the unqiue values in each of these fields."
   ]
  },
  {
   "cell_type": "code",
   "execution_count": 19,
   "metadata": {
    "tags": []
   },
   "outputs": [],
   "source": [
    "def freq_table(dataset, index):\n",
    "    table = {}\n",
    "    total = 0\n",
    "    for row in dataset:\n",
    "        value = row[index]\n",
    "        total +=1\n",
    "        if value in table:\n",
    "            table[value] += 1\n",
    "        else:\n",
    "            table[value] = 1\n",
    "    \n",
    "    table_percentages = {}\n",
    "    \n",
    "    for i in table:\n",
    "        percentage = (table[i] / total) * 100\n",
    "        table_percentages[i] = percentage\n",
    "    return table_percentages"
   ]
  },
  {
   "cell_type": "code",
   "execution_count": 20,
   "metadata": {},
   "outputs": [],
   "source": [
    "def display_table(dataset, index):\n",
    "    table = freq_table(dataset, index)\n",
    "    table_display = []\n",
    "    for key in table:\n",
    "        key_val_as_tuple = (table[key], key)\n",
    "        table_display.append(key_val_as_tuple)\n",
    "\n",
    "    table_sorted = sorted(table_display, reverse = True)\n",
    "    for entry in table_sorted:\n",
    "        print(entry[1], ':', entry[0])"
   ]
  },
  {
   "cell_type": "code",
   "execution_count": 21,
   "metadata": {
    "tags": []
   },
   "outputs": [
    {
     "output_type": "stream",
     "name": "stdout",
     "text": "FAMILY : 18.907942238267147\nGAME : 9.724729241877256\nTOOLS : 8.461191335740072\nBUSINESS : 4.591606498194946\nLIFESTYLE : 3.9034296028880866\nPRODUCTIVITY : 3.892148014440433\nFINANCE : 3.7003610108303246\nMEDICAL : 3.531137184115524\nSPORTS : 3.395758122743682\nPERSONALIZATION : 3.3167870036101084\nCOMMUNICATION : 3.2378158844765346\nHEALTH_AND_FITNESS : 3.0798736462093865\nPHOTOGRAPHY : 2.944494584837545\nNEWS_AND_MAGAZINES : 2.7978339350180503\nSOCIAL : 2.6624548736462095\nTRAVEL_AND_LOCAL : 2.33528880866426\nSHOPPING : 2.2450361010830324\nBOOKS_AND_REFERENCE : 2.1435018050541514\nDATING : 1.861462093862816\nVIDEO_PLAYERS : 1.7937725631768955\nMAPS_AND_NAVIGATION : 1.3989169675090252\nFOOD_AND_DRINK : 1.2409747292418771\nEDUCATION : 1.1620036101083033\nENTERTAINMENT : 0.9589350180505415\nLIBRARIES_AND_DEMO : 0.9363718411552346\nAUTO_AND_VEHICLES : 0.9250902527075812\nHOUSE_AND_HOME : 0.8235559566787004\nWEATHER : 0.8009927797833934\nEVENTS : 0.7107400722021661\nPARENTING : 0.6543321299638989\nART_AND_DESIGN : 0.6430505415162455\nCOMICS : 0.6204873646209386\nBEAUTY : 0.5979241877256317\n"
    }
   ],
   "source": [
    "display_table(android_free, 1)"
   ]
  },
  {
   "cell_type": "markdown",
   "metadata": {},
   "source": [
    "Within android free, English app, on the 'Category' column, the most popular app category is 'Family' at close to 19%, then 'Game' at close to 10%, and 'Tools' in third at around 8%. It looks like a pretty even spread from there on out, with 20 categories ranging from 1-5% that include 'Business', 'Finance', and 'Medical'. Although the 'Family' category is mostly games for children according to internet research, these apps seem evenly spread between practical, productivity categories."
   ]
  },
  {
   "cell_type": "code",
   "execution_count": 22,
   "metadata": {
    "tags": []
   },
   "outputs": [
    {
     "output_type": "stream",
     "name": "stdout",
     "text": "Tools : 8.449909747292418\nEntertainment : 6.069494584837545\nEducation : 5.347472924187725\nBusiness : 4.591606498194946\nProductivity : 3.892148014440433\nLifestyle : 3.892148014440433\nFinance : 3.7003610108303246\nMedical : 3.531137184115524\nSports : 3.463447653429603\nPersonalization : 3.3167870036101084\nCommunication : 3.2378158844765346\nAction : 3.1024368231046933\nHealth & Fitness : 3.0798736462093865\nPhotography : 2.944494584837545\nNews & Magazines : 2.7978339350180503\nSocial : 2.6624548736462095\nTravel & Local : 2.3240072202166067\nShopping : 2.2450361010830324\nBooks & Reference : 2.1435018050541514\nSimulation : 2.0419675090252705\nDating : 1.861462093862816\nArcade : 1.8501805054151623\nVideo Players & Editors : 1.7712093862815883\nCasual : 1.7599277978339352\nMaps & Navigation : 1.3989169675090252\nFood & Drink : 1.2409747292418771\nPuzzle : 1.128158844765343\nRacing : 0.9927797833935018\nRole Playing : 0.9363718411552346\nLibraries & Demo : 0.9363718411552346\nAuto & Vehicles : 0.9250902527075812\nStrategy : 0.9138086642599278\nHouse & Home : 0.8235559566787004\nWeather : 0.8009927797833934\nEvents : 0.7107400722021661\nAdventure : 0.6768953068592057\nComics : 0.6092057761732852\nBeauty : 0.5979241877256317\nArt & Design : 0.5979241877256317\nParenting : 0.4963898916967509\nCard : 0.45126353790613716\nCasino : 0.42870036101083037\nTrivia : 0.41741877256317694\nEducational;Education : 0.39485559566787\nBoard : 0.3835740072202166\nEducational : 0.3722924187725632\nEducation;Education : 0.33844765342960287\nWord : 0.2594765342960289\nCasual;Pretend Play : 0.236913357400722\nMusic : 0.2030685920577617\nRacing;Action & Adventure : 0.16922382671480143\nPuzzle;Brain Games : 0.16922382671480143\nEntertainment;Music & Video : 0.16922382671480143\nCasual;Brain Games : 0.13537906137184114\nCasual;Action & Adventure : 0.13537906137184114\nArcade;Action & Adventure : 0.12409747292418773\nAction;Action & Adventure : 0.10153429602888085\nEducational;Pretend Play : 0.09025270758122744\nSimulation;Action & Adventure : 0.078971119133574\nParenting;Education : 0.078971119133574\nEntertainment;Brain Games : 0.078971119133574\nBoard;Brain Games : 0.078971119133574\nParenting;Music & Video : 0.06768953068592057\nEducational;Brain Games : 0.06768953068592057\nCasual;Creativity : 0.06768953068592057\nArt & Design;Creativity : 0.06768953068592057\nEducation;Pretend Play : 0.056407942238267145\nRole Playing;Pretend Play : 0.04512635379061372\nEducation;Creativity : 0.04512635379061372\nRole Playing;Action & Adventure : 0.033844765342960284\nPuzzle;Action & Adventure : 0.033844765342960284\nEntertainment;Creativity : 0.033844765342960284\nEntertainment;Action & Adventure : 0.033844765342960284\nEducational;Creativity : 0.033844765342960284\nEducational;Action & Adventure : 0.033844765342960284\nEducation;Music & Video : 0.033844765342960284\nEducation;Brain Games : 0.033844765342960284\nEducation;Action & Adventure : 0.033844765342960284\nAdventure;Action & Adventure : 0.033844765342960284\nVideo Players & Editors;Music & Video : 0.02256317689530686\nSports;Action & Adventure : 0.02256317689530686\nSimulation;Pretend Play : 0.02256317689530686\nPuzzle;Creativity : 0.02256317689530686\nMusic;Music & Video : 0.02256317689530686\nEntertainment;Pretend Play : 0.02256317689530686\nCasual;Education : 0.02256317689530686\nBoard;Action & Adventure : 0.02256317689530686\nVideo Players & Editors;Creativity : 0.01128158844765343\nTrivia;Education : 0.01128158844765343\nTravel & Local;Action & Adventure : 0.01128158844765343\nTools;Education : 0.01128158844765343\nStrategy;Education : 0.01128158844765343\nStrategy;Creativity : 0.01128158844765343\nStrategy;Action & Adventure : 0.01128158844765343\nSimulation;Education : 0.01128158844765343\nRole Playing;Brain Games : 0.01128158844765343\nRacing;Pretend Play : 0.01128158844765343\nPuzzle;Education : 0.01128158844765343\nParenting;Brain Games : 0.01128158844765343\nMusic & Audio;Music & Video : 0.01128158844765343\nLifestyle;Pretend Play : 0.01128158844765343\nLifestyle;Education : 0.01128158844765343\nHealth & Fitness;Education : 0.01128158844765343\nHealth & Fitness;Action & Adventure : 0.01128158844765343\nEntertainment;Education : 0.01128158844765343\nCommunication;Creativity : 0.01128158844765343\nComics;Creativity : 0.01128158844765343\nCasual;Music & Video : 0.01128158844765343\nCard;Action & Adventure : 0.01128158844765343\nBooks & Reference;Education : 0.01128158844765343\nArt & Design;Pretend Play : 0.01128158844765343\nArt & Design;Action & Adventure : 0.01128158844765343\nArcade;Pretend Play : 0.01128158844765343\nAdventure;Education : 0.01128158844765343\n"
    }
   ],
   "source": [
    "display_table(android_free, 9)"
   ]
  },
  {
   "cell_type": "markdown",
   "metadata": {},
   "source": [
    "Within android free, English app, on the 'Genres' column, the story looks similar. The most popular app category is 'Tools' at 8%, then 'Entertainment' at 6%, and 'Education' in third at around 5%. It looks much more granular - there are many more categories than previously. It looks like a pretty even spread though, with over 20 genres ranging from 1-5%. Weirdly, a category related to games doesn't appear until 20 genres down with 'Arcade' at 1.9%."
   ]
  },
  {
   "cell_type": "code",
   "execution_count": 23,
   "metadata": {
    "tags": []
   },
   "outputs": [
    {
     "output_type": "stream",
     "name": "stdout",
     "text": "Games : 58.16263190564867\nEntertainment : 7.883302296710118\nPhoto & Video : 4.9658597144630665\nEducation : 3.662321539416512\nSocial Networking : 3.2898820608317814\nShopping : 2.60707635009311\nUtilities : 2.5139664804469275\nSports : 2.1415270018621975\nMusic : 2.0484171322160147\nHealth & Fitness : 2.0173805090006205\nProductivity : 1.7380509000620732\nLifestyle : 1.5828677839851024\nNews : 1.3345747982619491\nTravel : 1.2414649286157666\nFinance : 1.1173184357541899\nWeather : 0.8690254500310366\nFood & Drink : 0.8069522036002483\nReference : 0.5586592178770949\nBusiness : 0.5276225946617008\nBook : 0.4345127250155183\nNavigation : 0.186219739292365\nMedical : 0.186219739292365\nCatalogs : 0.12414649286157665\n"
    }
   ],
   "source": [
    "display_table(ios_free, 11)"
   ]
  },
  {
   "cell_type": "markdown",
   "metadata": {},
   "source": [
    "Within free, English apps, the most popular category with over 58% of apps is the 'Games' category. This is unlike andorid, where we saw a more even distribution of apps across . categories. The second most popular app category is 'Entertainment' at close to 8%. My general impression is that apps designed for fun, i.e. games and intertainment, are more numerous on the app store. However, and this is a reminder for both android and iOS - this isn't data on the number of downloads per category. So, although these categories of apps are most popularly developed, they're not necessarily the most popular categories downloaded. There are also generally much less categories of apps on iOS compared to android.\n",
    "\n",
    "Seems to me that we've learned the google play store apps are generally evenly spread between games / entertainment and productivity apps. The iOS store is different - games dominate the app store, with productivity apps trailing far behind.\n",
    "\n",
    "Now. let's average the number of installs (android) and ratings (iOS - doesn't have an install-like field) for apps per category."
   ]
  },
  {
   "cell_type": "code",
   "execution_count": 38,
   "metadata": {
    "tags": []
   },
   "outputs": [],
   "source": [
    "ios_categories = freq_table(ios_free, 11)\n",
    "\n",
    "table = {}\n",
    "for genre in ios_categories:\n",
    "    count_of_genre_user_ratings = 0\n",
    "    number_of_apps = 0\n",
    "    for row in ios_free:\n",
    "        genre_app = row[11]\n",
    "        if genre_app == genre:\n",
    "            count_of_user_ratings = float(row[5])\n",
    "            count_of_genre_user_ratings += count_of_user_ratings\n",
    "            number_of_apps += 1\n",
    "    average_count_of_user_ratings = count_of_genre_user_ratings / number_of_apps\n",
    "    table[genre] = average_count_of_user_ratings"
   ]
  },
  {
   "cell_type": "code",
   "execution_count": 39,
   "metadata": {
    "tags": []
   },
   "outputs": [
    {
     "output_type": "stream",
     "name": "stdout",
     "text": "Navigation : 86090.33333333333\nReference : 74942.11111111111\nSocial Networking : 71548.34905660378\nMusic : 57326.530303030304\nWeather : 52279.892857142855\nBook : 39758.5\nFood & Drink : 33333.92307692308\nFinance : 31467.944444444445\nPhoto & Video : 28441.54375\nTravel : 28243.8\nShopping : 26919.690476190477\nHealth & Fitness : 23298.015384615384\nSports : 23008.898550724636\nGames : 22788.6696905016\nNews : 21248.023255813954\nProductivity : 21028.410714285714\nUtilities : 18684.456790123455\nLifestyle : 16485.764705882353\nEntertainment : 14029.830708661417\nBusiness : 7491.117647058823\nEducation : 7003.983050847458\nCatalogs : 4004.0\nMedical : 612.0\n"
    }
   ],
   "source": [
    "def sort_table(dataset):\n",
    "    table = dataset\n",
    "    table_display = []\n",
    "    for key in table:\n",
    "        key_val_as_tuple = (table[key], key)\n",
    "        table_display.append(key_val_as_tuple)\n",
    "\n",
    "    table_sorted = sorted(table_display, reverse = True)\n",
    "    for entry in table_sorted:\n",
    "        print(entry[1], ':', entry[0])\n",
    "\n",
    "sort_table(table)"
   ]
  },
  {
   "cell_type": "markdown",
   "metadata": {},
   "source": [
    "So this tells a different story from our previous frequency tables. For one, 'Games' aren't until the 14th category down. The category with the largest average number or ratings is 'Navigation', with ~86,000, followed by 'Reference' at ~75,000 and then 'social networking' with ~72,000. "
   ]
  }
 ]
}